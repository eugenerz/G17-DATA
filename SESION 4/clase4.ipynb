{
 "cells": [
  {
   "cell_type": "markdown",
   "metadata": {},
   "source": [
    "# Clase 4\n",
    "## Inreoduccion al paradigma Orientado a Objetos"
   ]
  },
  {
   "cell_type": "markdown",
   "metadata": {},
   "source": [
    "*Que es un paradigma?*\n",
    "Normas que establecen limites y determidan como debe comportarse un elemento dentro de estos limites  \n",
    "En programacion es un modelo para resolver promeblas computacionales    \n",
    "En POO se trabaja de manera modular    \n",
    "\n",
    "## POO\n",
    "Paradigma de programacion\n",
    "1 Invocar la manera en que se consiguen los resultados  \n",
    "2 La POO disminuye los errores y promociona la reutilizacion de codigo  \n",
    "3 Es una manera de programar que se acerca a la manera en como nos expresamos en la videa real  \n",
    "\n",
    "**Clase** -> Deriva a Objetos -> Atributos -> Metodos\n",
    "\n",
    "### Objetos\n",
    "**METODO**: Comportamiento del Objeto  \n",
    "**Atributos**: Describe el estado interno de un objeto    \n",
    "**Abstraccion** : Crear modelo simple de algo complejo que represente sus datos mas importantes y que sea facil de manipular en nuestro programa\n",
    "\n",
    "Abtraccion de datos de un objeto es describir sus caracteristicas mas caracteristicas  \n",
    "*Ejemplo :*  \n",
    "\n",
    "Coche: Color, potencia, velocidad    \n",
    "\n",
    "\n",
    "*Ejemplo:*  \n",
    "Clase: Persona  \n",
    "Objetos: Persona 1, Persona 2    \n",
    "### Constructor\n",
    "Sol los datos especificos para crear los metodos  "
   ]
  },
  {
   "cell_type": "markdown",
   "metadata": {},
   "source": [
    "POO\n",
    "---"
   ]
  },
  {
   "cell_type": "code",
   "execution_count": 2,
   "metadata": {},
   "outputs": [],
   "source": [
    "paco=[\"Paco\",5,\"Chihuahua\"]\n",
    "Solovino =[\"Solovino\",7,\"pug\"]\n",
    "Max=[\"Max\",\"Husky\"]"
   ]
  },
  {
   "cell_type": "code",
   "execution_count": 3,
   "metadata": {},
   "outputs": [],
   "source": [
    "class Perro:\n",
    "    pass  #para que no haya error"
   ]
  },
  {
   "cell_type": "code",
   "execution_count": 4,
   "metadata": {},
   "outputs": [
    {
     "data": {
      "text/plain": [
       "<__main__.Perro at 0x16b03efd1c0>"
      ]
     },
     "execution_count": 4,
     "metadata": {},
     "output_type": "execute_result"
    }
   ],
   "source": [
    "Perro()"
   ]
  },
  {
   "cell_type": "code",
   "execution_count": 5,
   "metadata": {},
   "outputs": [],
   "source": [
    "class Perro:\n",
    "    def __init__(self,nombre,edad,raza):\n",
    "        self.nombre=nombre\n",
    "        self.edad=edad\n",
    "        self.raza=raza\n"
   ]
  },
  {
   "cell_type": "code",
   "execution_count": 7,
   "metadata": {},
   "outputs": [],
   "source": [
    "perro1=Perro(\"max\",6,\"Husky\") # Se crea un objeto de la clase Perro"
   ]
  },
  {
   "cell_type": "code",
   "execution_count": 8,
   "metadata": {},
   "outputs": [
    {
     "data": {
      "text/plain": [
       "'max'"
      ]
     },
     "execution_count": 8,
     "metadata": {},
     "output_type": "execute_result"
    }
   ],
   "source": [
    "perro1.nombre"
   ]
  },
  {
   "cell_type": "code",
   "execution_count": 9,
   "metadata": {},
   "outputs": [
    {
     "data": {
      "text/plain": [
       "6"
      ]
     },
     "execution_count": 9,
     "metadata": {},
     "output_type": "execute_result"
    }
   ],
   "source": [
    "perro1.edad"
   ]
  },
  {
   "cell_type": "code",
   "execution_count": 11,
   "metadata": {},
   "outputs": [
    {
     "data": {
      "text/plain": [
       "'Husky'"
      ]
     },
     "execution_count": 11,
     "metadata": {},
     "output_type": "execute_result"
    }
   ],
   "source": [
    "\n",
    "perro1.raza"
   ]
  },
  {
   "cell_type": "code",
   "execution_count": 12,
   "metadata": {},
   "outputs": [],
   "source": [
    "class Persona: ## por convecion la primer letra de una clase es MAYUSCULA\n",
    "    def __init__(self,nombre,apellido,estatura,edad):\n",
    "        self.nombre=nombre\n",
    "        self.apellido=apellido\n",
    "        self.estatura=estatura\n",
    "        self.edad=edad\n",
    "\n",
    "    def saludar(self): # Metodo\n",
    "        return f'Hola, yo soy {self.nombre}'"
   ]
  },
  {
   "cell_type": "code",
   "execution_count": 13,
   "metadata": {},
   "outputs": [],
   "source": [
    "persona1=Persona('Daniel',\"Esquivel\",1.80,25)"
   ]
  },
  {
   "cell_type": "code",
   "execution_count": 15,
   "metadata": {},
   "outputs": [
    {
     "data": {
      "text/plain": [
       "'Hola, yo soy Daniel'"
      ]
     },
     "execution_count": 15,
     "metadata": {},
     "output_type": "execute_result"
    }
   ],
   "source": [
    "persona1.saludar()"
   ]
  },
  {
   "cell_type": "code",
   "execution_count": 16,
   "metadata": {},
   "outputs": [],
   "source": [
    "persona2=Persona(\"Jojos\",\"Leyva\",1.60,26)"
   ]
  },
  {
   "cell_type": "code",
   "execution_count": 17,
   "metadata": {},
   "outputs": [
    {
     "data": {
      "text/plain": [
       "'Hola, yo soy Jojos'"
      ]
     },
     "execution_count": 17,
     "metadata": {},
     "output_type": "execute_result"
    }
   ],
   "source": [
    "persona2.saludar()"
   ]
  },
  {
   "cell_type": "code",
   "execution_count": 18,
   "metadata": {},
   "outputs": [],
   "source": [
    "class Persona: ## por convecion la primer letra de una clase es MAYUSCULA\n",
    "    planeta=\"Tierra\" #Es un atributo que ya esta construido y siempre sera el mismo para cualquier objeto\n",
    "    def __init__(self,nombre,apellido,estatura,edad): #constructor, define las propiedades que se le pueden ingresar ala clase\n",
    "        self.nombre=nombre\n",
    "        self.apellido=apellido\n",
    "        self.estatura=estatura\n",
    "        self.edad=edad\n",
    "\n",
    "    def saludar(self): # Metodo\n",
    "        return f'Hola, yo soy {self.nombre}'\n",
    "\n",
    "    def mayor_edad(self):\n",
    "        if self.edad>=18:\n",
    "            return f\"{self.nombre} Es mayor de edad\"\n",
    "        else:\n",
    "            return f\"{self.nombre} No es mayor de edad\"\n",
    "\n",
    "\n",
    "\n"
   ]
  },
  {
   "cell_type": "code",
   "execution_count": 19,
   "metadata": {},
   "outputs": [],
   "source": [
    "persona3=Persona(\"Eugene\",\"Ruiz\",1.60,25)\n",
    "persona4=Persona(\"Cheems\",\"Ruiz\",1.55,17)"
   ]
  },
  {
   "cell_type": "code",
   "execution_count": 21,
   "metadata": {},
   "outputs": [
    {
     "data": {
      "text/plain": [
       "'Eugene Es mayor de edad'"
      ]
     },
     "execution_count": 21,
     "metadata": {},
     "output_type": "execute_result"
    }
   ],
   "source": [
    "persona3.mayor_edad() ##Los metodos se llaman con ()"
   ]
  },
  {
   "cell_type": "code",
   "execution_count": 22,
   "metadata": {},
   "outputs": [
    {
     "data": {
      "text/plain": [
       "'Cheems No es mayor de edad'"
      ]
     },
     "execution_count": 22,
     "metadata": {},
     "output_type": "execute_result"
    }
   ],
   "source": [
    "persona4.mayor_edad()"
   ]
  },
  {
   "cell_type": "markdown",
   "metadata": {},
   "source": [
    "No necesariamente los objetos son algo fisico"
   ]
  },
  {
   "cell_type": "code",
   "execution_count": 26,
   "metadata": {},
   "outputs": [],
   "source": [
    "class Conection:\n",
    "    def __init__(self,user,password):\n",
    "        self.user=user\n",
    "        self.password=password\n",
    "    def logear(self):\n",
    "        if self.user== \"Daniel\" and self.password==\"123456\":\n",
    "            return \"Conexion exitosa\"\n",
    "        else:\n",
    "            return \"Usuario o contraseña incorrecta\"\n"
   ]
  },
  {
   "cell_type": "code",
   "execution_count": 27,
   "metadata": {},
   "outputs": [],
   "source": [
    "conecction1=Conection(\"Daniel\",\"123456\")"
   ]
  },
  {
   "cell_type": "code",
   "execution_count": 28,
   "metadata": {},
   "outputs": [
    {
     "data": {
      "text/plain": [
       "'Conexion exitosa'"
      ]
     },
     "execution_count": 28,
     "metadata": {},
     "output_type": "execute_result"
    }
   ],
   "source": [
    "conecction1.logear()"
   ]
  },
  {
   "cell_type": "markdown",
   "metadata": {},
   "source": [
    "### Herencia en POO\n",
    "*Dejar que una clase y objeto madre, te deje sus constructores o atributos*  \n",
    "En el momento de declarar la clase se agrega la otra clase de donde se quiere obtener el costructor\n",
    "```\n",
    "class Estudiante(Persona):\n",
    "```"
   ]
  },
  {
   "cell_type": "code",
   "execution_count": 29,
   "metadata": {},
   "outputs": [],
   "source": [
    "class Estudiante(Persona):\n",
    "    pass"
   ]
  },
  {
   "cell_type": "code",
   "execution_count": 30,
   "metadata": {},
   "outputs": [],
   "source": [
    "estudiante1=Estudiante(\"Eugene\",\"Ruiz\",1.60,25)"
   ]
  },
  {
   "cell_type": "markdown",
   "metadata": {},
   "source": [
    "El consturctor de la clase `Persona` se heredo a la clase `Estudiante`  \n",
    "Ademas de heredar el constructor, se pue heredar los metodos:"
   ]
  },
  {
   "cell_type": "code",
   "execution_count": 31,
   "metadata": {},
   "outputs": [
    {
     "data": {
      "text/plain": [
       "'Hola, yo soy Eugene'"
      ]
     },
     "execution_count": 31,
     "metadata": {},
     "output_type": "execute_result"
    }
   ],
   "source": [
    "estudiante1.saludar()"
   ]
  }
 ],
 "metadata": {
  "interpreter": {
   "hash": "8824d0e924a47edf097c09d9412ec907845fd5c9c654d210fc902eda9c8216b6"
  },
  "kernelspec": {
   "display_name": "Python 3.9.7 ('base')",
   "language": "python",
   "name": "python3"
  },
  "language_info": {
   "codemirror_mode": {
    "name": "ipython",
    "version": 3
   },
   "file_extension": ".py",
   "mimetype": "text/x-python",
   "name": "python",
   "nbconvert_exporter": "python",
   "pygments_lexer": "ipython3",
   "version": "3.9.7"
  },
  "orig_nbformat": 4
 },
 "nbformat": 4,
 "nbformat_minor": 2
}
