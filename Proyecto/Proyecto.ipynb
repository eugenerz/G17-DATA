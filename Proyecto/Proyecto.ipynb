{
 "cells": [
  {
   "cell_type": "markdown",
   "metadata": {},
   "source": [
    "# Proyecto: Deportistas mejores pagadados\n",
    " ---"
   ]
  },
  {
   "cell_type": "code",
   "execution_count": 2,
   "metadata": {},
   "outputs": [],
   "source": [
    "import pandas as pd"
   ]
  },
  {
   "cell_type": "code",
   "execution_count": 5,
   "metadata": {},
   "outputs": [],
   "source": [
    "atheletes=pd.read_csv(\"Forbes Richest Atheletes (Forbes Richest Athletes 1990-2020).csv\")"
   ]
  },
  {
   "cell_type": "markdown",
   "metadata": {},
   "source": [
    "## Pre-procesamiento de la datebase"
   ]
  },
  {
   "cell_type": "code",
   "execution_count": 6,
   "metadata": {},
   "outputs": [
    {
     "name": "stdout",
     "output_type": "stream",
     "text": [
      "<class 'pandas.core.frame.DataFrame'>\n",
      "RangeIndex: 301 entries, 0 to 300\n",
      "Data columns (total 8 columns):\n",
      " #   Column                Non-Null Count  Dtype  \n",
      "---  ------                --------------  -----  \n",
      " 0   S.NO                  301 non-null    int64  \n",
      " 1   Name                  301 non-null    object \n",
      " 2   Nationality           301 non-null    object \n",
      " 3   Current Rank          301 non-null    int64  \n",
      " 4   Previous Year Rank    277 non-null    object \n",
      " 5   Sport                 301 non-null    object \n",
      " 6   Year                  301 non-null    int64  \n",
      " 7   earnings ($ million)  301 non-null    float64\n",
      "dtypes: float64(1), int64(3), object(4)\n",
      "memory usage: 18.9+ KB\n"
     ]
    }
   ],
   "source": [
    "atheletes.info()"
   ]
  },
  {
   "cell_type": "code",
   "execution_count": 7,
   "metadata": {},
   "outputs": [
    {
     "data": {
      "text/html": [
       "<div>\n",
       "<style scoped>\n",
       "    .dataframe tbody tr th:only-of-type {\n",
       "        vertical-align: middle;\n",
       "    }\n",
       "\n",
       "    .dataframe tbody tr th {\n",
       "        vertical-align: top;\n",
       "    }\n",
       "\n",
       "    .dataframe thead th {\n",
       "        text-align: right;\n",
       "    }\n",
       "</style>\n",
       "<table border=\"1\" class=\"dataframe\">\n",
       "  <thead>\n",
       "    <tr style=\"text-align: right;\">\n",
       "      <th></th>\n",
       "      <th>S.NO</th>\n",
       "      <th>Name</th>\n",
       "      <th>Nationality</th>\n",
       "      <th>Current Rank</th>\n",
       "      <th>Previous Year Rank</th>\n",
       "      <th>Sport</th>\n",
       "      <th>Year</th>\n",
       "      <th>earnings ($ million)</th>\n",
       "    </tr>\n",
       "  </thead>\n",
       "  <tbody>\n",
       "    <tr>\n",
       "      <th>0</th>\n",
       "      <td>1</td>\n",
       "      <td>Mike Tyson</td>\n",
       "      <td>USA</td>\n",
       "      <td>1</td>\n",
       "      <td>NaN</td>\n",
       "      <td>boxing</td>\n",
       "      <td>1990</td>\n",
       "      <td>28.6</td>\n",
       "    </tr>\n",
       "    <tr>\n",
       "      <th>1</th>\n",
       "      <td>2</td>\n",
       "      <td>Buster Douglas</td>\n",
       "      <td>USA</td>\n",
       "      <td>2</td>\n",
       "      <td>NaN</td>\n",
       "      <td>boxing</td>\n",
       "      <td>1990</td>\n",
       "      <td>26.0</td>\n",
       "    </tr>\n",
       "    <tr>\n",
       "      <th>2</th>\n",
       "      <td>3</td>\n",
       "      <td>Sugar Ray Leonard</td>\n",
       "      <td>USA</td>\n",
       "      <td>3</td>\n",
       "      <td>NaN</td>\n",
       "      <td>boxing</td>\n",
       "      <td>1990</td>\n",
       "      <td>13.0</td>\n",
       "    </tr>\n",
       "    <tr>\n",
       "      <th>3</th>\n",
       "      <td>4</td>\n",
       "      <td>Ayrton Senna</td>\n",
       "      <td>Brazil</td>\n",
       "      <td>4</td>\n",
       "      <td>NaN</td>\n",
       "      <td>auto racing</td>\n",
       "      <td>1990</td>\n",
       "      <td>10.0</td>\n",
       "    </tr>\n",
       "    <tr>\n",
       "      <th>4</th>\n",
       "      <td>5</td>\n",
       "      <td>Alain Prost</td>\n",
       "      <td>France</td>\n",
       "      <td>5</td>\n",
       "      <td>NaN</td>\n",
       "      <td>auto racing</td>\n",
       "      <td>1990</td>\n",
       "      <td>9.0</td>\n",
       "    </tr>\n",
       "  </tbody>\n",
       "</table>\n",
       "</div>"
      ],
      "text/plain": [
       "   S.NO               Name Nationality  Current Rank Previous Year Rank  \\\n",
       "0     1         Mike Tyson         USA             1                NaN   \n",
       "1     2     Buster Douglas         USA             2                NaN   \n",
       "2     3  Sugar Ray Leonard         USA             3                NaN   \n",
       "3     4       Ayrton Senna      Brazil             4                NaN   \n",
       "4     5        Alain Prost      France             5                NaN   \n",
       "\n",
       "         Sport  Year  earnings ($ million)  \n",
       "0       boxing  1990                  28.6  \n",
       "1       boxing  1990                  26.0  \n",
       "2       boxing  1990                  13.0  \n",
       "3  auto racing  1990                  10.0  \n",
       "4  auto racing  1990                   9.0  "
      ]
     },
     "execution_count": 7,
     "metadata": {},
     "output_type": "execute_result"
    }
   ],
   "source": [
    "atheletes.head()"
   ]
  },
  {
   "cell_type": "code",
   "execution_count": 8,
   "metadata": {},
   "outputs": [
    {
     "data": {
      "text/plain": [
       "array(['S.NO', 'Name', 'Nationality', 'Current Rank',\n",
       "       'Previous Year Rank', 'Sport', 'Year', 'earnings ($ million)'],\n",
       "      dtype=object)"
      ]
     },
     "execution_count": 8,
     "metadata": {},
     "output_type": "execute_result"
    }
   ],
   "source": [
    "atheletes.columns.values"
   ]
  },
  {
   "cell_type": "markdown",
   "metadata": {},
   "source": [
    "De acuerdo la la infor de `atheletes.info()` la unica variable con datos faltantes es `Previous Year Rank`"
   ]
  },
  {
   "cell_type": "code",
   "execution_count": 11,
   "metadata": {},
   "outputs": [
    {
     "name": "stdout",
     "output_type": "stream",
     "text": [
      "Porcentaje total de datos perdidos del Previous Year Rank: 7.973421926910299 %\n"
     ]
    }
   ],
   "source": [
    "missing_year_rank=atheletes['Previous Year Rank'].isnull().sum()\n",
    "number_rows=len(atheletes)\n",
    "print('Porcentaje total de datos perdidos del Previous Year Rank:',(missing_year_rank/number_rows)*100, '%')"
   ]
  },
  {
   "cell_type": "markdown",
   "metadata": {},
   "source": [
    "Se ajusta la variable `year` a un tipo de dato temporal"
   ]
  },
  {
   "cell_type": "code",
   "execution_count": 14,
   "metadata": {},
   "outputs": [],
   "source": [
    "atheletes['Year_datetimme']=pd.to_datetime(atheletes['Year'])"
   ]
  },
  {
   "cell_type": "code",
   "execution_count": 17,
   "metadata": {},
   "outputs": [
    {
     "data": {
      "text/plain": [
       "0     1970-01-01 00:00:00.000001990\n",
       "1     1970-01-01 00:00:00.000001990\n",
       "2     1970-01-01 00:00:00.000001990\n",
       "3     1970-01-01 00:00:00.000001990\n",
       "4     1970-01-01 00:00:00.000001990\n",
       "                   ...             \n",
       "296   1970-01-01 00:00:00.000002020\n",
       "297   1970-01-01 00:00:00.000002020\n",
       "298   1970-01-01 00:00:00.000002020\n",
       "299   1970-01-01 00:00:00.000002020\n",
       "300   1970-01-01 00:00:00.000002020\n",
       "Name: Year_datetimme, Length: 301, dtype: datetime64[ns]"
      ]
     },
     "execution_count": 17,
     "metadata": {},
     "output_type": "execute_result"
    }
   ],
   "source": [
    "atheletes['Year_datetimme']"
   ]
  },
  {
   "cell_type": "markdown",
   "metadata": {},
   "source": [
    "Cuales son los deportes en este censo"
   ]
  },
  {
   "cell_type": "code",
   "execution_count": 18,
   "metadata": {},
   "outputs": [
    {
     "data": {
      "text/plain": [
       "['boxing',\n",
       " 'auto racing',\n",
       " 'golf',\n",
       " 'basketball',\n",
       " 'Basketball',\n",
       " 'Boxing',\n",
       " 'Auto Racing',\n",
       " 'Golf',\n",
       " 'Tennis',\n",
       " 'NFL',\n",
       " 'Auto racing',\n",
       " 'NBA',\n",
       " 'Baseball',\n",
       " 'Ice Hockey',\n",
       " 'American Football / Baseball',\n",
       " 'tennis',\n",
       " 'ice hockey',\n",
       " 'F1 Motorsports',\n",
       " 'NASCAR',\n",
       " 'Hockey',\n",
       " 'Auto Racing (Nascar)',\n",
       " 'F1 racing',\n",
       " 'American Football',\n",
       " 'soccer',\n",
       " 'baseball',\n",
       " 'cycling',\n",
       " 'motorcycle gp',\n",
       " 'Soccer',\n",
       " 'MMA']"
      ]
     },
     "execution_count": 18,
     "metadata": {},
     "output_type": "execute_result"
    }
   ],
   "source": [
    "atheletes['Sport'].unique().tolist()"
   ]
  },
  {
   "cell_type": "markdown",
   "metadata": {},
   "source": [
    "Se observa que no todos los deportes estan formateados con la misma cadena de caracteres"
   ]
  },
  {
   "cell_type": "code",
   "execution_count": 39,
   "metadata": {},
   "outputs": [],
   "source": [
    "def replace_all(variable, dic):\n",
    "    for orig, rep in dic.items():\n",
    "        variable = variable.replace(orig, rep)\n",
    "    return variable\n"
   ]
  },
  {
   "cell_type": "markdown",
   "metadata": {},
   "source": [
    "`replace_all` es una funcion para remplazar strings por otro en todos los datos de una misma variable"
   ]
  },
  {
   "cell_type": "markdown",
   "metadata": {},
   "source": [
    "Se crea un diccionario para reemplazar strings de deportes repetidos"
   ]
  },
  {
   "cell_type": "code",
   "execution_count": 40,
   "metadata": {},
   "outputs": [],
   "source": [
    "sports_rename=dict({'basketball':'Basketball',\n",
    "'boxing':'Boxing',\n",
    "'baseball':'Baseball',\n",
    "'tennis':'Tennis',\n",
    "'auto racing':'Auto Racing',\n",
    "'golf':'Golf',\n",
    " 'ice hockey':'Ice Hockey',\n",
    " 'soccer':'Soccer'\n",
    "})\n",
    "atheletes['Sport']=replace_all(atheletes['Sport'],sports_rename)"
   ]
  },
  {
   "cell_type": "markdown",
   "metadata": {},
   "source": [
    "Se presentan a continuacion la lista de deportes final "
   ]
  },
  {
   "cell_type": "code",
   "execution_count": 41,
   "metadata": {},
   "outputs": [
    {
     "data": {
      "text/plain": [
       "['Boxing',\n",
       " 'Auto Racing',\n",
       " 'Golf',\n",
       " 'Basketball',\n",
       " 'Tennis',\n",
       " 'NFL',\n",
       " 'Auto racing',\n",
       " 'NBA',\n",
       " 'Baseball',\n",
       " 'Ice Hockey',\n",
       " 'American Football / Baseball',\n",
       " 'F1 Motorsports',\n",
       " 'NASCAR',\n",
       " 'Hockey',\n",
       " 'Auto Racing (Nascar)',\n",
       " 'F1 racing',\n",
       " 'American Football',\n",
       " 'Soccer',\n",
       " 'cycling',\n",
       " 'motorcycle gp',\n",
       " 'MMA']"
      ]
     },
     "execution_count": 41,
     "metadata": {},
     "output_type": "execute_result"
    }
   ],
   "source": [
    "atheletes['Sport'].unique().tolist()"
   ]
  },
  {
   "cell_type": "code",
   "execution_count": 44,
   "metadata": {},
   "outputs": [
    {
     "data": {
      "text/plain": [
       "[1990,\n",
       " 1991,\n",
       " 1992,\n",
       " 1993,\n",
       " 1994,\n",
       " 1995,\n",
       " 1996,\n",
       " 1997,\n",
       " 1998,\n",
       " 1999,\n",
       " 2000,\n",
       " 2002,\n",
       " 2003,\n",
       " 2004,\n",
       " 2005,\n",
       " 2006,\n",
       " 2007,\n",
       " 2008,\n",
       " 2009,\n",
       " 2010,\n",
       " 2011,\n",
       " 2012,\n",
       " 2013,\n",
       " 2014,\n",
       " 2015,\n",
       " 2016,\n",
       " 2017,\n",
       " 2018,\n",
       " 2019,\n",
       " 2020]"
      ]
     },
     "execution_count": 44,
     "metadata": {},
     "output_type": "execute_result"
    }
   ],
   "source": [
    "atheletes['Year'].unique().tolist()"
   ]
  },
  {
   "cell_type": "markdown",
   "metadata": {},
   "source": [
    "###  Mejores artistas pagados en 2020"
   ]
  },
  {
   "cell_type": "code",
   "execution_count": 46,
   "metadata": {},
   "outputs": [],
   "source": [
    "import numpy as np\n",
    "import seaborn as sns\n"
   ]
  },
  {
   "cell_type": "code",
   "execution_count": 47,
   "metadata": {},
   "outputs": [
    {
     "data": {
      "text/plain": [
       "<AxesSubplot:xlabel='earnings ($ million)', ylabel='Count'>"
      ]
     },
     "execution_count": 47,
     "metadata": {},
     "output_type": "execute_result"
    },
    {
     "data": {
      "image/png": "[encoded data removed]",
      "text/plain": [
       "<Figure size 432x288 with 1 Axes>"
      ]
     },
     "metadata": {
      "needs_background": "light"
     },
     "output_type": "display_data"
    }
   ],
   "source": [
    "sns.histplot(atheletes['earnings ($ million)'],kde=False)"
   ]
  },
  {
   "cell_type": "code",
   "execution_count": 49,
   "metadata": {},
   "outputs": [
    {
     "data": {
      "text/html": [
       "<div>\n",
       "<style scoped>\n",
       "    .dataframe tbody tr th:only-of-type {\n",
       "        vertical-align: middle;\n",
       "    }\n",
       "\n",
       "    .dataframe tbody tr th {\n",
       "        vertical-align: top;\n",
       "    }\n",
       "\n",
       "    .dataframe thead th {\n",
       "        text-align: right;\n",
       "    }\n",
       "</style>\n",
       "<table border=\"1\" class=\"dataframe\">\n",
       "  <thead>\n",
       "    <tr style=\"text-align: right;\">\n",
       "      <th></th>\n",
       "      <th>Name</th>\n",
       "      <th>earnings ($ million)</th>\n",
       "    </tr>\n",
       "  </thead>\n",
       "  <tbody>\n",
       "    <tr>\n",
       "      <th>291</th>\n",
       "      <td>Roger Federer</td>\n",
       "      <td>106.3</td>\n",
       "    </tr>\n",
       "    <tr>\n",
       "      <th>292</th>\n",
       "      <td>Cristiano Ronaldo</td>\n",
       "      <td>105.0</td>\n",
       "    </tr>\n",
       "    <tr>\n",
       "      <th>293</th>\n",
       "      <td>Lionel Messi</td>\n",
       "      <td>104.0</td>\n",
       "    </tr>\n",
       "    <tr>\n",
       "      <th>294</th>\n",
       "      <td>Neymar</td>\n",
       "      <td>95.5</td>\n",
       "    </tr>\n",
       "    <tr>\n",
       "      <th>295</th>\n",
       "      <td>LeBron James</td>\n",
       "      <td>88.2</td>\n",
       "    </tr>\n",
       "    <tr>\n",
       "      <th>296</th>\n",
       "      <td>Stephen Curry</td>\n",
       "      <td>74.4</td>\n",
       "    </tr>\n",
       "    <tr>\n",
       "      <th>297</th>\n",
       "      <td>Kevin Durant</td>\n",
       "      <td>63.9</td>\n",
       "    </tr>\n",
       "    <tr>\n",
       "      <th>298</th>\n",
       "      <td>Tiger Woods</td>\n",
       "      <td>62.3</td>\n",
       "    </tr>\n",
       "    <tr>\n",
       "      <th>299</th>\n",
       "      <td>Kirk Cousins</td>\n",
       "      <td>60.5</td>\n",
       "    </tr>\n",
       "    <tr>\n",
       "      <th>300</th>\n",
       "      <td>Carson Wentz</td>\n",
       "      <td>59.1</td>\n",
       "    </tr>\n",
       "  </tbody>\n",
       "</table>\n",
       "</div>"
      ],
      "text/plain": [
       "                  Name  earnings ($ million)\n",
       "291      Roger Federer                 106.3\n",
       "292  Cristiano Ronaldo                 105.0\n",
       "293       Lionel Messi                 104.0\n",
       "294             Neymar                  95.5\n",
       "295       LeBron James                  88.2\n",
       "296      Stephen Curry                  74.4\n",
       "297       Kevin Durant                  63.9\n",
       "298        Tiger Woods                  62.3\n",
       "299       Kirk Cousins                  60.5\n",
       "300       Carson Wentz                  59.1"
      ]
     },
     "execution_count": 49,
     "metadata": {},
     "output_type": "execute_result"
    }
   ],
   "source": [
    "ganancias_2020=atheletes[atheletes['Year']==2020].loc[:,('Name','earnings ($ million)')]\n",
    "ganancias_2020"
   ]
  },
  {
   "cell_type": "code",
   "execution_count": 51,
   "metadata": {},
   "outputs": [
    {
     "data": {
      "text/plain": [
       "<AxesSubplot:xlabel='Name'>"
      ]
     },
     "execution_count": 51,
     "metadata": {},
     "output_type": "execute_result"
    },
    {
     "data": {
      "image/png": "[encoded data removed]",
      "text/plain": [
       "<Figure size 432x288 with 1 Axes>"
      ]
     },
     "metadata": {
      "needs_background": "light"
     },
     "output_type": "display_data"
    }
   ],
   "source": [
    "ganancias_2020.plot(kind='bar',x='Name',y='earnings ($ million)',color='pink')"
   ]
  },
  {
   "cell_type": "markdown",
   "metadata": {},
   "source": [
    "### Análisis de los atletas mejor pagados entre 1990 y 2020."
   ]
  },
  {
   "cell_type": "code",
   "execution_count": 54,
   "metadata": {},
   "outputs": [
    {
     "data": {
      "text/html": [
       "<div>\n",
       "<style scoped>\n",
       "    .dataframe tbody tr th:only-of-type {\n",
       "        vertical-align: middle;\n",
       "    }\n",
       "\n",
       "    .dataframe tbody tr th {\n",
       "        vertical-align: top;\n",
       "    }\n",
       "\n",
       "    .dataframe thead th {\n",
       "        text-align: right;\n",
       "    }\n",
       "</style>\n",
       "<table border=\"1\" class=\"dataframe\">\n",
       "  <thead>\n",
       "    <tr style=\"text-align: right;\">\n",
       "      <th></th>\n",
       "      <th>Name</th>\n",
       "      <th>Year</th>\n",
       "      <th>Sport</th>\n",
       "      <th>earnings ($ million)</th>\n",
       "    </tr>\n",
       "  </thead>\n",
       "  <tbody>\n",
       "    <tr>\n",
       "      <th>0</th>\n",
       "      <td>Mike Tyson</td>\n",
       "      <td>1990</td>\n",
       "      <td>Boxing</td>\n",
       "      <td>28.6</td>\n",
       "    </tr>\n",
       "    <tr>\n",
       "      <th>10</th>\n",
       "      <td>Evander Holyfield</td>\n",
       "      <td>1991</td>\n",
       "      <td>Boxing</td>\n",
       "      <td>60.5</td>\n",
       "    </tr>\n",
       "    <tr>\n",
       "      <th>20</th>\n",
       "      <td>Michael Jordan</td>\n",
       "      <td>1992</td>\n",
       "      <td>Basketball</td>\n",
       "      <td>35.9</td>\n",
       "    </tr>\n",
       "    <tr>\n",
       "      <th>30</th>\n",
       "      <td>Michael Jordan</td>\n",
       "      <td>1993</td>\n",
       "      <td>Basketball</td>\n",
       "      <td>36.0</td>\n",
       "    </tr>\n",
       "    <tr>\n",
       "      <th>40</th>\n",
       "      <td>Michael Jordan</td>\n",
       "      <td>1994</td>\n",
       "      <td>Basketball</td>\n",
       "      <td>30.0</td>\n",
       "    </tr>\n",
       "    <tr>\n",
       "      <th>50</th>\n",
       "      <td>Michael Jordan</td>\n",
       "      <td>1995</td>\n",
       "      <td>Basketball</td>\n",
       "      <td>43.9</td>\n",
       "    </tr>\n",
       "    <tr>\n",
       "      <th>60</th>\n",
       "      <td>Mike Tyson</td>\n",
       "      <td>1996</td>\n",
       "      <td>Boxing</td>\n",
       "      <td>75.0</td>\n",
       "    </tr>\n",
       "    <tr>\n",
       "      <th>70</th>\n",
       "      <td>Michael Jordan</td>\n",
       "      <td>1997</td>\n",
       "      <td>Basketball</td>\n",
       "      <td>78.3</td>\n",
       "    </tr>\n",
       "    <tr>\n",
       "      <th>80</th>\n",
       "      <td>Michael Jordan</td>\n",
       "      <td>1998</td>\n",
       "      <td>Basketball</td>\n",
       "      <td>69.0</td>\n",
       "    </tr>\n",
       "    <tr>\n",
       "      <th>90</th>\n",
       "      <td>Michael Schumacher</td>\n",
       "      <td>1999</td>\n",
       "      <td>Auto Racing</td>\n",
       "      <td>49.0</td>\n",
       "    </tr>\n",
       "    <tr>\n",
       "      <th>100</th>\n",
       "      <td>Michael Schumacher</td>\n",
       "      <td>2000</td>\n",
       "      <td>Auto Racing</td>\n",
       "      <td>59.0</td>\n",
       "    </tr>\n",
       "    <tr>\n",
       "      <th>110</th>\n",
       "      <td>Tiger Woods</td>\n",
       "      <td>2002</td>\n",
       "      <td>Golf</td>\n",
       "      <td>69.0</td>\n",
       "    </tr>\n",
       "    <tr>\n",
       "      <th>121</th>\n",
       "      <td>Tiger Woods</td>\n",
       "      <td>2003</td>\n",
       "      <td>Golf</td>\n",
       "      <td>78.0</td>\n",
       "    </tr>\n",
       "    <tr>\n",
       "      <th>131</th>\n",
       "      <td>Tiger Woods</td>\n",
       "      <td>2004</td>\n",
       "      <td>Golf</td>\n",
       "      <td>80.3</td>\n",
       "    </tr>\n",
       "    <tr>\n",
       "      <th>141</th>\n",
       "      <td>Tiger Woods</td>\n",
       "      <td>2005</td>\n",
       "      <td>Golf</td>\n",
       "      <td>87.0</td>\n",
       "    </tr>\n",
       "    <tr>\n",
       "      <th>151</th>\n",
       "      <td>Tiger Woods</td>\n",
       "      <td>2006</td>\n",
       "      <td>Golf</td>\n",
       "      <td>90.0</td>\n",
       "    </tr>\n",
       "    <tr>\n",
       "      <th>161</th>\n",
       "      <td>Tiger Woods</td>\n",
       "      <td>2007</td>\n",
       "      <td>Golf</td>\n",
       "      <td>100.0</td>\n",
       "    </tr>\n",
       "    <tr>\n",
       "      <th>171</th>\n",
       "      <td>Tiger Woods</td>\n",
       "      <td>2008</td>\n",
       "      <td>Golf</td>\n",
       "      <td>115.0</td>\n",
       "    </tr>\n",
       "    <tr>\n",
       "      <th>181</th>\n",
       "      <td>Tiger Woods</td>\n",
       "      <td>2009</td>\n",
       "      <td>Golf</td>\n",
       "      <td>110.0</td>\n",
       "    </tr>\n",
       "    <tr>\n",
       "      <th>191</th>\n",
       "      <td>Tiger Woods</td>\n",
       "      <td>2010</td>\n",
       "      <td>Golf</td>\n",
       "      <td>105.0</td>\n",
       "    </tr>\n",
       "    <tr>\n",
       "      <th>201</th>\n",
       "      <td>Tiger Woods</td>\n",
       "      <td>2011</td>\n",
       "      <td>Golf</td>\n",
       "      <td>75.0</td>\n",
       "    </tr>\n",
       "    <tr>\n",
       "      <th>211</th>\n",
       "      <td>Floyd Mayweather</td>\n",
       "      <td>2012</td>\n",
       "      <td>Boxing</td>\n",
       "      <td>85.0</td>\n",
       "    </tr>\n",
       "    <tr>\n",
       "      <th>221</th>\n",
       "      <td>Tiger Woods</td>\n",
       "      <td>2013</td>\n",
       "      <td>Golf</td>\n",
       "      <td>78.1</td>\n",
       "    </tr>\n",
       "    <tr>\n",
       "      <th>231</th>\n",
       "      <td>Floyd Mayweather</td>\n",
       "      <td>2014</td>\n",
       "      <td>Boxing</td>\n",
       "      <td>105.0</td>\n",
       "    </tr>\n",
       "    <tr>\n",
       "      <th>241</th>\n",
       "      <td>Floyd Mayweather</td>\n",
       "      <td>2015</td>\n",
       "      <td>Boxing</td>\n",
       "      <td>300.0</td>\n",
       "    </tr>\n",
       "    <tr>\n",
       "      <th>251</th>\n",
       "      <td>Cristiano Ronaldo</td>\n",
       "      <td>2016</td>\n",
       "      <td>Soccer</td>\n",
       "      <td>88.0</td>\n",
       "    </tr>\n",
       "    <tr>\n",
       "      <th>261</th>\n",
       "      <td>Cristiano Ronaldo</td>\n",
       "      <td>2017</td>\n",
       "      <td>Soccer</td>\n",
       "      <td>93.0</td>\n",
       "    </tr>\n",
       "    <tr>\n",
       "      <th>271</th>\n",
       "      <td>Floyd Mayweather</td>\n",
       "      <td>2018</td>\n",
       "      <td>Boxing</td>\n",
       "      <td>285.0</td>\n",
       "    </tr>\n",
       "    <tr>\n",
       "      <th>281</th>\n",
       "      <td>Lionel Messi</td>\n",
       "      <td>2019</td>\n",
       "      <td>Soccer</td>\n",
       "      <td>127.0</td>\n",
       "    </tr>\n",
       "    <tr>\n",
       "      <th>291</th>\n",
       "      <td>Roger Federer</td>\n",
       "      <td>2020</td>\n",
       "      <td>Tennis</td>\n",
       "      <td>106.3</td>\n",
       "    </tr>\n",
       "  </tbody>\n",
       "</table>\n",
       "</div>"
      ],
      "text/plain": [
       "                   Name  Year        Sport  earnings ($ million)\n",
       "0            Mike Tyson  1990       Boxing                  28.6\n",
       "10    Evander Holyfield  1991       Boxing                  60.5\n",
       "20       Michael Jordan  1992   Basketball                  35.9\n",
       "30       Michael Jordan  1993   Basketball                  36.0\n",
       "40       Michael Jordan  1994   Basketball                  30.0\n",
       "50       Michael Jordan  1995   Basketball                  43.9\n",
       "60           Mike Tyson  1996       Boxing                  75.0\n",
       "70       Michael Jordan  1997   Basketball                  78.3\n",
       "80       Michael Jordan  1998   Basketball                  69.0\n",
       "90   Michael Schumacher  1999  Auto Racing                  49.0\n",
       "100  Michael Schumacher  2000  Auto Racing                  59.0\n",
       "110         Tiger Woods  2002         Golf                  69.0\n",
       "121         Tiger Woods  2003         Golf                  78.0\n",
       "131         Tiger Woods  2004         Golf                  80.3\n",
       "141         Tiger Woods  2005         Golf                  87.0\n",
       "151         Tiger Woods  2006         Golf                  90.0\n",
       "161         Tiger Woods  2007         Golf                 100.0\n",
       "171         Tiger Woods  2008         Golf                 115.0\n",
       "181         Tiger Woods  2009         Golf                 110.0\n",
       "191         Tiger Woods  2010         Golf                 105.0\n",
       "201         Tiger Woods  2011         Golf                  75.0\n",
       "211    Floyd Mayweather  2012       Boxing                  85.0\n",
       "221         Tiger Woods  2013         Golf                  78.1\n",
       "231    Floyd Mayweather  2014       Boxing                 105.0\n",
       "241    Floyd Mayweather  2015       Boxing                 300.0\n",
       "251   Cristiano Ronaldo  2016       Soccer                  88.0\n",
       "261   Cristiano Ronaldo  2017       Soccer                  93.0\n",
       "271    Floyd Mayweather  2018       Boxing                 285.0\n",
       "281        Lionel Messi  2019       Soccer                 127.0\n",
       "291       Roger Federer  2020       Tennis                 106.3"
      ]
     },
     "execution_count": 54,
     "metadata": {},
     "output_type": "execute_result"
    }
   ],
   "source": [
    "best_per_year=atheletes[atheletes['Current Rank']==1].loc[:,('Name','Year','Sport', 'earnings ($ million)')]\n",
    "best_per_year"
   ]
  },
  {
   "cell_type": "markdown",
   "metadata": {},
   "source": [
    "### ¿Cuánto ingresan los mejores atletas cada año?"
   ]
  },
  {
   "cell_type": "code",
   "execution_count": 62,
   "metadata": {},
   "outputs": [],
   "source": [
    "sport_ranked=pd.DataFrame(atheletes['Sport'].value_counts())\n",
    "sport_ranked.columns=['Sport','Ranked count']"
   ]
  },
  {
   "cell_type": "code",
   "execution_count": 70,
   "metadata": {},
   "outputs": [
    {
     "data": {
      "text/plain": [
       "<AxesSubplot:>"
      ]
     },
     "execution_count": 70,
     "metadata": {},
     "output_type": "execute_result"
    },
    {
     "data": {
      "image/png": "[encoded data removed]",
      "text/plain": [
       "<Figure size 432x288 with 1 Axes>"
      ]
     },
     "metadata": {
      "needs_background": "light"
     },
     "output_type": "display_data"
    }
   ],
   "source": [
    "sport_ranked.plot.bar(rot=90, stacked=False)\n"
   ]
  },
  {
   "cell_type": "code",
   "execution_count": null,
   "metadata": {},
   "outputs": [],
   "source": []
  },
  {
   "cell_type": "markdown",
   "metadata": {},
   "source": [
    "### Analisis del Data Base\n",
    "---"
   ]
  },
  {
   "cell_type": "markdown",
   "metadata": {},
   "source": [
    "* 1. Deportistas cuyo ranking ha subido al menos dos lugares entre 2010 y 2020."
   ]
  },
  {
   "cell_type": "code",
   "execution_count": 75,
   "metadata": {},
   "outputs": [],
   "source": [
    "ranked_10=atheletes[atheletes['Year']==2010].loc[:,('Name','Current Rank')]\n",
    "ranked_20=atheletes[atheletes['Year']==2020].loc[:,('Name','Current Rank')]\n",
    "atheletes_upranked=np.where(ranked_10['Ranked']>ranked_20['Ranked'])"
   ]
  }
 ],
 "metadata": {
  "kernelspec": {
   "display_name": "Python 3.9.7 ('base')",
   "language": "python",
   "name": "python3"
  },
  "language_info": {
   "codemirror_mode": {
    "name": "ipython",
    "version": 3
   },
   "file_extension": ".py",
   "mimetype": "text/x-python",
   "name": "python",
   "nbconvert_exporter": "python",
   "pygments_lexer": "ipython3",
   "version": "3.9.7"
  },
  "orig_nbformat": 4,
  "vscode": {
   "interpreter": {
    "hash": "8824d0e924a47edf097c09d9412ec907845fd5c9c654d210fc902eda9c8216b6"
   }
  }
 },
 "nbformat": 4,
 "nbformat_minor": 2
}
