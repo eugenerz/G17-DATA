{
 "cells": [
  {
   "cell_type": "markdown",
   "metadata": {},
   "source": [
    "## FUNCIONES  \n",
    "---     \n",
    "\n",
    "*Manera para dividir el codigo en **BLOQUES UTILES**,haciendolo **LEIBLE,REPRODUCIBLE,ESCALABLE** y permite ser mas **productivos***  \n",
    "*En CIENCIAS DE LA COMPUTACION se usan para aislar le solucion de un problema dado y que pueda reutilizarse muchas veces*  \n",
    "Input y Outputs  \n",
    "Declaracion:\n",
    "```\n",
    "def nombre_de_la_funcion ():\n",
    "    estructura de la funcion\n",
    "``` \n",
    "def-> Palabra reservada para DEFINIR una funcion  \n",
    "Para mandar a llamar una funcion, basta con usar el nombre que le asignamos seguida de un parentesis  \n",
    "```\n",
    "nombre_de_la_funcion()\n",
    "```\n"
   ]
  },
  {
   "cell_type": "code",
   "execution_count": 1,
   "metadata": {},
   "outputs": [],
   "source": [
    "def pikachu_dice_hola():\n",
    "    print(\"Hola mi nombre es pikachu\")"
   ]
  },
  {
   "cell_type": "markdown",
   "metadata": {},
   "source": [
    "###  Tipos de funciones\n",
    "* **Funciones Integradas**: como `help()`, `min()`,`print()`   \n",
    "* **Funciones definidas por el usuario**: por ejemplo `pikachu_dice_hola()`\n",
    "* **Funciones anonimas**: tambien llamadas funciones lambda $\\lambda$ porque no son declaradas con la palabra reservada `def`"
   ]
  },
  {
   "cell_type": "markdown",
   "metadata": {},
   "source": [
    "## Argumentos de la funcion\n",
    "Los  argumentos son los valores de las variables que entran a la funcion\n",
    "*Al llamar una funcion se ingresan el mismo numero de argumentos con las que fue definida*  \n",
    "`return` -> palabra reservada para las salidas, lo que regresa la funcion  \n"
   ]
  },
  {
   "cell_type": "markdown",
   "metadata": {},
   "source": [
    "Desde la perspectiva de una funcion\n",
    "* Un **parametro** es la variable definida dentro de los parentesis en la definicion de la funcion  \n",
    "```\n",
    "def imprimeNombre(nombre):\n",
    "    return nombre\n",
    "```\n",
    "parametro->> `nombre`\n",
    "\n",
    "* Un **argumento** es el valor que es enviado a la funcion cuando se definio\n",
    "```\n",
    "\n",
    "imprimeNombre(\"Daniel\")\n",
    "```\n",
    "argumento->> `\"Daniel\"`"
   ]
  },
  {
   "cell_type": "code",
   "execution_count": 2,
   "metadata": {},
   "outputs": [],
   "source": [
    "def imprimenombre(nombre):\n",
    "    return nombre"
   ]
  },
  {
   "cell_type": "code",
   "execution_count": 3,
   "metadata": {},
   "outputs": [
    {
     "data": {
      "text/plain": [
       "'Eugenia'"
      ]
     },
     "execution_count": 3,
     "metadata": {},
     "output_type": "execute_result"
    }
   ],
   "source": [
    "nombre=\"Eugenia\"\n",
    "imprimenombre(nombre)"
   ]
  },
  {
   "cell_type": "markdown",
   "metadata": {},
   "source": [
    "### Argumentos arbitrarios (*args)  \n",
    "Si se desconoce cuantos parametros seran ingresados a la funcion se  declaran `funcion(*args)`\n",
    "y el parametro sera definido como una lista de argumentos"
   ]
  },
  {
   "cell_type": "code",
   "execution_count": 1,
   "metadata": {},
   "outputs": [],
   "source": [
    "def imprimeNombre(*nombre):\n",
    "    return nombre[2]"
   ]
  },
  {
   "cell_type": "code",
   "execution_count": 2,
   "metadata": {},
   "outputs": [
    {
     "name": "stdout",
     "output_type": "stream",
     "text": [
      "Eugene\n"
     ]
    }
   ],
   "source": [
    "print(imprimeNombre(\"Dani\", \"Jojos\",\"Eugene\"))"
   ]
  },
  {
   "cell_type": "markdown",
   "metadata": {},
   "source": [
    "Parametros por defecto\n",
    "se definen desde la declaracion de la funcion\n"
   ]
  },
  {
   "cell_type": "code",
   "execution_count": 5,
   "metadata": {},
   "outputs": [],
   "source": [
    "def imprime_pais(country=\"Mexico\"):\n",
    "    return country"
   ]
  },
  {
   "cell_type": "code",
   "execution_count": 6,
   "metadata": {},
   "outputs": [
    {
     "data": {
      "text/plain": [
       "'Mexico'"
      ]
     },
     "execution_count": 6,
     "metadata": {},
     "output_type": "execute_result"
    }
   ],
   "source": [
    "imprime_pais()"
   ]
  },
  {
   "cell_type": "markdown",
   "metadata": {},
   "source": [
    "### Valor de parametros por defecto\n",
    "Se pueden ingresar valores prederteminados a una funcion \n",
    "```\n",
    "def Nombre_funcion(parametro=valor):\n",
    "    return parametro\n",
    "```\n",
    "Y el parametro de la funcion `Nombre_funcion` siempre sera el `valor` que le fue asignado\n"
   ]
  },
  {
   "cell_type": "code",
   "execution_count": 3,
   "metadata": {},
   "outputs": [],
   "source": [
    "def imprime_pais_de_pokemon(country=\"Mexico\"):\n",
    "    return country"
   ]
  },
  {
   "cell_type": "code",
   "execution_count": 6,
   "metadata": {},
   "outputs": [
    {
     "data": {
      "text/plain": [
       "'Mexico'"
      ]
     },
     "execution_count": 6,
     "metadata": {},
     "output_type": "execute_result"
    }
   ],
   "source": [
    "imprime_pais_de_pokemon()"
   ]
  },
  {
   "cell_type": "markdown",
   "metadata": {},
   "source": [
    "Como argumentos puede entrar variables, lista...etc como argumento"
   ]
  },
  {
   "cell_type": "code",
   "execution_count": 8,
   "metadata": {},
   "outputs": [
    {
     "name": "stdout",
     "output_type": "stream",
     "text": [
      "Charizard\n",
      "Squirtle\n",
      "Bulbasur\n"
     ]
    }
   ],
   "source": [
    "def imprime_pokemons(pokemon):\n",
    "    for x in pokemon:\n",
    "        print(x)\n",
    "pokemons=[\"Charizard\",\"Squirtle\",\"Bulbasur\"]\n",
    "imprime_pokemons(pokemons)"
   ]
  },
  {
   "cell_type": "markdown",
   "metadata": {},
   "source": [
    "`return` $->$ devuelve un valor  \n",
    "`pass`$->$ no hace nada"
   ]
  },
  {
   "cell_type": "markdown",
   "metadata": {},
   "source": [
    "## Funciones lambda $\\lambda$\n",
    "*Por completar*\n"
   ]
  },
  {
   "cell_type": "markdown",
   "metadata": {},
   "source": [
    "*Analizando codigo*"
   ]
  },
  {
   "cell_type": "code",
   "execution_count": 7,
   "metadata": {},
   "outputs": [
    {
     "data": {
      "text/plain": [
       "False"
      ]
     },
     "execution_count": 7,
     "metadata": {},
     "output_type": "execute_result"
    }
   ],
   "source": [
    "'a'=='b'  # Se compara el valor ASCII de  cada palabra"
   ]
  },
  {
   "cell_type": "code",
   "execution_count": 8,
   "metadata": {},
   "outputs": [
    {
     "data": {
      "text/plain": [
       "False"
      ]
     },
     "execution_count": 8,
     "metadata": {},
     "output_type": "execute_result"
    }
   ],
   "source": [
    "\"Daniel\">\"Joselyne\"  # Se compara caracter con caracter hasta que encuentra uno diferente y compara ese ultimo caracter de su valor ASCII"
   ]
  },
  {
   "cell_type": "code",
   "execution_count": 9,
   "metadata": {},
   "outputs": [],
   "source": [
    "def mod_5(x):\n",
    "    #Returne el residuo de x entre 5\n",
    "    return x%5\n"
   ]
  },
  {
   "cell_type": "code",
   "execution_count": 10,
   "metadata": {},
   "outputs": [
    {
     "data": {
      "text/plain": [
       "0"
      ]
     },
     "execution_count": 10,
     "metadata": {},
     "output_type": "execute_result"
    }
   ],
   "source": [
    "mod_5(10)"
   ]
  },
  {
   "cell_type": "markdown",
   "metadata": {},
   "source": [
    "## TEST unitario  "
   ]
  },
  {
   "cell_type": "markdown",
   "metadata": {},
   "source": [
    "*Para saber que una funcion funciona para cualquier input*  \n",
    "\\*SON IMPORTANTES EN EL MUNDO LABORAL\\*  \n",
    "*Existen diferentes de test*\n",
    "* Test unitario\n",
    "* Smoke Testing\n",
    "* Integration Testing\n",
    "* System Testing\n",
    "* Regression Testing\n",
    "* Perfomance & Load Testing"
   ]
  },
  {
   "cell_type": "code",
   "execution_count": null,
   "metadata": {},
   "outputs": [],
   "source": []
  },
  {
   "cell_type": "markdown",
   "metadata": {},
   "source": [
    "## Crowd-coding: \n",
    "*Funciones y como usar help()*"
   ]
  }
 ],
 "metadata": {
  "interpreter": {
   "hash": "8824d0e924a47edf097c09d9412ec907845fd5c9c654d210fc902eda9c8216b6"
  },
  "kernelspec": {
   "display_name": "Python 3.9.7 ('base')",
   "language": "python",
   "name": "python3"
  },
  "language_info": {
   "codemirror_mode": {
    "name": "ipython",
    "version": 3
   },
   "file_extension": ".py",
   "mimetype": "text/x-python",
   "name": "python",
   "nbconvert_exporter": "python",
   "pygments_lexer": "ipython3",
   "version": "3.9.7"
  },
  "orig_nbformat": 4
 },
 "nbformat": 4,
 "nbformat_minor": 2
}
