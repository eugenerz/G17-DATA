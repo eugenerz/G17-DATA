{
  "cells": [
    {
      "cell_type": "markdown",
      "metadata": {
        "id": "RRrvGOYjMDc2"
      },
      "source": [
        "Sesion **1**"
      ]
    },
    {
      "cell_type": "code",
      "execution_count": 1,
      "metadata": {
        "colab": {
          "base_uri": "https://localhost:8080/"
        },
        "id": "MQ1ck0N4MT25",
        "outputId": "eee936fe-145a-4032-ca99-a0df3630ad00"
      },
      "outputs": [
        {
          "name": "stdout",
          "output_type": "stream",
          "text": [
            "HOLA MUNDO\n"
          ]
        }
      ],
      "source": [
        "print(\"HOLA MUNDO\")"
      ]
    },
    {
      "cell_type": "code",
      "execution_count": null,
      "metadata": {
        "id": "dqy-22zPOkVH"
      },
      "outputs": [],
      "source": []
    },
    {
      "cell_type": "code",
      "execution_count": null,
      "metadata": {
        "id": "33udSBWVOmYI"
      },
      "outputs": [],
      "source": []
    },
    {
      "cell_type": "code",
      "execution_count": null,
      "metadata": {
        "colab": {
          "base_uri": "https://localhost:8080/",
          "height": 35
        },
        "id": "r5C9kwzrMgQ_",
        "outputId": "4afbebc8-2b24-499a-d3d2-5934d3670b00"
      },
      "outputs": [
        {
          "data": {
            "application/vnd.google.colaboratory.intrinsic+json": {
              "type": "string"
            },
            "text/plain": [
              "'Eugenia Ruiz'"
            ]
          },
          "execution_count": 8,
          "metadata": {},
          "output_type": "execute_result"
        }
      ],
      "source": [
        "mi_nombre=\"Eugenia Ruiz\" #declaracion\n",
        "mi_nombre "
      ]
    },
    {
      "cell_type": "code",
      "execution_count": null,
      "metadata": {
        "id": "NmK85oZeM-iF"
      },
      "outputs": [],
      "source": [
        "mi_edad=25\n",
        "mi_altura=1.60"
      ]
    },
    {
      "cell_type": "markdown",
      "metadata": {
        "id": "RR13JOBNNiJg"
      },
      "source": [
        "**Format**\n"
      ]
    },
    {
      "cell_type": "markdown",
      "metadata": {
        "id": "YQ4Y8Gf6N0AX"
      },
      "source": [
        "1. Format Manual (Concatenar)\n",
        "2. Format parentesid\n",
        "3. F strings\n"
      ]
    },
    {
      "cell_type": "code",
      "execution_count": null,
      "metadata": {
        "colab": {
          "base_uri": "https://localhost:8080/"
        },
        "id": "FNegQOkaN9C0",
        "outputId": "6778313f-3a75-4e87-f52e-a4d46b526ce5"
      },
      "outputs": [
        {
          "name": "stdout",
          "output_type": "stream",
          "text": [
            "Mi nombre es: Eugenia Ruiz\n"
          ]
        }
      ],
      "source": [
        "print('Mi nombre es: '+mi_nombre)"
      ]
    },
    {
      "cell_type": "code",
      "execution_count": null,
      "metadata": {
        "colab": {
          "base_uri": "https://localhost:8080/"
        },
        "id": "0HT4PhL1ON7C",
        "outputId": "67066bc1-1bb4-4518-c3b4-43eaea0bfaf0"
      },
      "outputs": [
        {
          "name": "stdout",
          "output_type": "stream",
          "text": [
            "Mi edad es:  25\n"
          ]
        }
      ],
      "source": [
        "print('Mi edad es:  %i' % mi_edad) ## %i indica el espacio de una variable"
      ]
    },
    {
      "cell_type": "code",
      "execution_count": null,
      "metadata": {
        "colab": {
          "base_uri": "https://localhost:8080/"
        },
        "id": "xveqz3RSOt47",
        "outputId": "4869aa2b-d40e-4251-dbda-5b9eef81c577"
      },
      "outputs": [
        {
          "name": "stdout",
          "output_type": "stream",
          "text": [
            "L altura 1.6 y mi nombre es Eugenia Ruiz\n"
          ]
        }
      ],
      "source": [
        "print( \"L altura {} y mi nombre es {}\".format(mi_altura,mi_nombre))"
      ]
    },
    {
      "cell_type": "code",
      "execution_count": null,
      "metadata": {
        "colab": {
          "base_uri": "https://localhost:8080/"
        },
        "id": "HkpNRQJOPFpb",
        "outputId": "b21b077d-82d8-4369-a43b-d924e3c36b08"
      },
      "outputs": [
        {
          "name": "stdout",
          "output_type": "stream",
          "text": [
            "Mi nombre es Eugenia Ruiz y mi edad es 25\n"
          ]
        }
      ],
      "source": [
        "print(f\"Mi nombre es {mi_nombre} y mi edad es {mi_edad}\") ## F string, se puede definir el linmite de caracteres en {}"
      ]
    },
    {
      "cell_type": "code",
      "execution_count": null,
      "metadata": {
        "colab": {
          "base_uri": "https://localhost:8080/"
        },
        "id": "kWFh2r9VPdmw",
        "outputId": "3d4098bf-dc8e-4c44-bfc3-fd4868fc7c14"
      },
      "outputs": [
        {
          "name": "stdout",
          "output_type": "stream",
          "text": [
            "Mi nombre es Eugenia Ruiz         y mi edad es 25\n"
          ]
        }
      ],
      "source": [
        "print(f\"Mi nombre es {mi_nombre:20} y mi edad es {mi_edad}\") ## solo 20 caracteres  en la primer variable"
      ]
    },
    {
      "cell_type": "code",
      "execution_count": null,
      "metadata": {
        "colab": {
          "base_uri": "https://localhost:8080/"
        },
        "id": "MnATpK42Prgc",
        "outputId": "faa1e1e2-700e-4fc6-80c4-a042400fc5df"
      },
      "outputs": [
        {
          "name": "stdout",
          "output_type": "stream",
          "text": [
            "Mi nombre es Eugenia Ruiz         y mi edad es --------25\n"
          ]
        }
      ],
      "source": [
        "print(f\"Mi nombre es {mi_nombre:20} y mi edad es {mi_edad:->10}\") ## 10 a la derecha caracteres  en la primer variable"
      ]
    },
    {
      "cell_type": "markdown",
      "metadata": {
        "id": "8SeyZpN3QRk4"
      },
      "source": [
        "## Declaracion de variables **numericas**"
      ]
    },
    {
      "cell_type": "code",
      "execution_count": null,
      "metadata": {
        "id": "C9I6g9A9QYZ5"
      },
      "outputs": [],
      "source": [
        "a=10\n",
        "b=5"
      ]
    },
    {
      "cell_type": "code",
      "execution_count": null,
      "metadata": {
        "colab": {
          "base_uri": "https://localhost:8080/"
        },
        "id": "xk-tJ7UOQyiZ",
        "outputId": "20050ea2-7e96-4884-cbde-77de34f7b70d"
      },
      "outputs": [
        {
          "name": "stdout",
          "output_type": "stream",
          "text": [
            "15\n"
          ]
        }
      ],
      "source": [
        "print(a + b)"
      ]
    },
    {
      "cell_type": "code",
      "execution_count": null,
      "metadata": {
        "id": "n0tfO5etQ4cx"
      },
      "outputs": [],
      "source": [
        "c,d=20,25"
      ]
    },
    {
      "cell_type": "code",
      "execution_count": null,
      "metadata": {
        "colab": {
          "base_uri": "https://localhost:8080/"
        },
        "id": "ZBcHauN0RAu-",
        "outputId": "7d3e27d8-6f68-4bdc-8a12-4749afaeff5b"
      },
      "outputs": [
        {
          "name": "stdout",
          "output_type": "stream",
          "text": [
            "45\n"
          ]
        }
      ],
      "source": [
        "print (c+d)"
      ]
    },
    {
      "cell_type": "code",
      "execution_count": null,
      "metadata": {
        "id": "LHwZdoSlR-JK"
      },
      "outputs": [],
      "source": [
        "print(f\"La suma de {c} + {d} es {c + d}\")\n"
      ]
    },
    {
      "cell_type": "markdown",
      "metadata": {
        "id": "lAMgcnauRuN-"
      },
      "source": [
        "Ejercicio imprimir la multiplicacion y division de c y d\n"
      ]
    },
    {
      "cell_type": "code",
      "execution_count": null,
      "metadata": {
        "colab": {
          "base_uri": "https://localhost:8080/"
        },
        "id": "KVPXJ33RRFGe",
        "outputId": "d3c2c742-d9aa-4319-f918-583c2000a45c"
      },
      "outputs": [
        {
          "name": "stdout",
          "output_type": "stream",
          "text": [
            "La suma de 20 + 25 es 45\n",
            "La multiplicacion de 20 * 25 es 500\n",
            "La division de 20 / 25 es 0.8\n"
          ]
        }
      ],
      "source": [
        "print(f\"La suma de {c} + {d} es {c + d}\")\n",
        "print(f\"La multiplicacion de {c} * {d} es {c * d}\")\n",
        "print(f\"La division de {c} / {d} es {c / d}\")"
      ]
    },
    {
      "cell_type": "markdown",
      "metadata": {
        "id": "5Nr4TIJvSMLj"
      },
      "source": [
        "Inputs"
      ]
    },
    {
      "cell_type": "code",
      "execution_count": null,
      "metadata": {
        "colab": {
          "base_uri": "https://localhost:8080/"
        },
        "id": "tYw-qfNWSP_W",
        "outputId": "0975994a-946d-47df-ceca-686fdc4c4392"
      },
      "outputs": [
        {
          "name": "stdout",
          "output_type": "stream",
          "text": [
            "Dame tu nombreJunior\n"
          ]
        }
      ],
      "source": [
        "nombre=input(\"Dame tu nombre \") # almacen a string "
      ]
    },
    {
      "cell_type": "code",
      "execution_count": null,
      "metadata": {
        "colab": {
          "base_uri": "https://localhost:8080/"
        },
        "id": "1qiU5JPZTGLY",
        "outputId": "0dd17de5-4548-4200-ffc0-2c864083c277"
      },
      "outputs": [
        {
          "name": "stdout",
          "output_type": "stream",
          "text": [
            "Dame tu edad 26\n"
          ]
        }
      ],
      "source": [
        "mi_edad = input (\"Dame tu edad \")"
      ]
    },
    {
      "cell_type": "code",
      "execution_count": null,
      "metadata": {
        "colab": {
          "base_uri": "https://localhost:8080/"
        },
        "id": "tFS3xgW8TSK_",
        "outputId": "efbe740d-2ce7-4006-97f8-dd24809c26fa"
      },
      "outputs": [
        {
          "data": {
            "text/plain": [
              "130"
            ]
          },
          "execution_count": 35,
          "metadata": {},
          "output_type": "execute_result"
        }
      ],
      "source": [
        "mi_edad=int(mi_edad) ## para transformar a entero \n",
        "mi_edad*5"
      ]
    },
    {
      "cell_type": "markdown",
      "metadata": {
        "id": "Vh7-qGGxUPvS"
      },
      "source": [
        "### Listas"
      ]
    },
    {
      "cell_type": "code",
      "execution_count": null,
      "metadata": {
        "colab": {
          "base_uri": "https://localhost:8080/"
        },
        "id": "WKb-zP_1UUln",
        "outputId": "1c05b721-b942-44d1-e044-d8f1bdc30264"
      },
      "outputs": [
        {
          "data": {
            "text/plain": [
              "['Daniel', 'Rogelio']"
            ]
          },
          "execution_count": 36,
          "metadata": {},
          "output_type": "execute_result"
        }
      ],
      "source": [
        "['Daniel', \"Rogelio\"]"
      ]
    },
    {
      "cell_type": "code",
      "execution_count": null,
      "metadata": {
        "colab": {
          "base_uri": "https://localhost:8080/"
        },
        "id": "Mq_NcL4fVAGm",
        "outputId": "03385ba6-49e0-4218-c2af-fa55b373b725"
      },
      "outputs": [
        {
          "data": {
            "text/plain": [
              "['manzana', 'pera', 'Naranje']"
            ]
          },
          "execution_count": 39,
          "metadata": {},
          "output_type": "execute_result"
        }
      ],
      "source": [
        "frutas=['manzana', 'pera', 'Naranje']\n",
        "frutas"
      ]
    },
    {
      "cell_type": "code",
      "execution_count": null,
      "metadata": {
        "colab": {
          "base_uri": "https://localhost:8080/"
        },
        "id": "-x9dYSKWVmTp",
        "outputId": "84cf3784-21d5-45ff-9d2c-a3a5daa52aa6"
      },
      "outputs": [
        {
          "data": {
            "text/plain": [
              "[(0, 'manzana'), (1, 'pera'), (2, 'Naranje')]"
            ]
          },
          "execution_count": 42,
          "metadata": {},
          "output_type": "execute_result"
        }
      ],
      "source": [
        "list(enumerate(frutas))"
      ]
    },
    {
      "cell_type": "code",
      "execution_count": null,
      "metadata": {
        "colab": {
          "base_uri": "https://localhost:8080/"
        },
        "id": "dobEcUdyWjHT",
        "outputId": "604f2319-c5a6-4b21-a4d7-02f54aa49667"
      },
      "outputs": [
        {
          "data": {
            "text/plain": [
              "['manzana', 'pera', 'Naranje', 'uva', 'uva']"
            ]
          },
          "execution_count": 44,
          "metadata": {},
          "output_type": "execute_result"
        }
      ],
      "source": [
        "frutas.append(\"uva\")\n",
        "frutas"
      ]
    },
    {
      "cell_type": "markdown",
      "metadata": {
        "id": "mPcfBADyWsZI"
      },
      "source": [
        "Slice"
      ]
    },
    {
      "cell_type": "code",
      "execution_count": null,
      "metadata": {
        "colab": {
          "base_uri": "https://localhost:8080/"
        },
        "id": "9dkz4ZflWu28",
        "outputId": "35fb07e7-a2e0-49a1-fca3-12aae1f3cd85"
      },
      "outputs": [
        {
          "data": {
            "text/plain": [
              "['pera', 'Naranje']"
            ]
          },
          "execution_count": 45,
          "metadata": {},
          "output_type": "execute_result"
        }
      ],
      "source": [
        "frutas[1:3]"
      ]
    },
    {
      "cell_type": "markdown",
      "metadata": {
        "id": "IT6Cvc73c8ec"
      },
      "source": [
        "metodos y funciones para listas\n"
      ]
    },
    {
      "cell_type": "code",
      "execution_count": null,
      "metadata": {
        "id": "qtxUMy4ceCwN"
      },
      "outputs": [],
      "source": []
    },
    {
      "cell_type": "code",
      "execution_count": null,
      "metadata": {
        "id": "f_LyHiL5eEZZ"
      },
      "outputs": [],
      "source": []
    },
    {
      "cell_type": "code",
      "execution_count": null,
      "metadata": {
        "id": "u04775i2c_Tf"
      },
      "outputs": [],
      "source": [
        "lista=[10,60,5,1,68,74,14,54,77,88]"
      ]
    },
    {
      "cell_type": "code",
      "execution_count": null,
      "metadata": {
        "colab": {
          "base_uri": "https://localhost:8080/"
        },
        "id": "PL1l3iwxeGEF",
        "outputId": "11c1335b-7fd8-4543-ae28-881182e07abb"
      },
      "outputs": [
        {
          "data": {
            "text/plain": [
              "[1, 5, 10, 14, 54, 60, 68, 74, 77, 88]"
            ]
          },
          "execution_count": 50,
          "metadata": {},
          "output_type": "execute_result"
        }
      ],
      "source": [
        "lista.sort()\n",
        "lista"
      ]
    },
    {
      "cell_type": "code",
      "execution_count": null,
      "metadata": {
        "colab": {
          "base_uri": "https://localhost:8080/"
        },
        "id": "H6s3P352f-QS",
        "outputId": "d9946edc-9d43-468f-c372-07316d2c3d46"
      },
      "outputs": [
        {
          "data": {
            "text/plain": [
              "[88, 77, 74, 68, 60, 54, 14, 10, 5, 1]"
            ]
          },
          "execution_count": 52,
          "metadata": {},
          "output_type": "execute_result"
        }
      ],
      "source": [
        "lista.sort(reverse=True)\n",
        "lista"
      ]
    },
    {
      "cell_type": "code",
      "execution_count": null,
      "metadata": {
        "colab": {
          "base_uri": "https://localhost:8080/"
        },
        "id": "yrM2viPRgcDo",
        "outputId": "bc2f983f-0264-4f38-e9c5-428f7c245ab4"
      },
      "outputs": [
        {
          "data": {
            "text/plain": [
              "451"
            ]
          },
          "execution_count": 53,
          "metadata": {},
          "output_type": "execute_result"
        }
      ],
      "source": [
        "sum(lista)"
      ]
    },
    {
      "cell_type": "code",
      "execution_count": null,
      "metadata": {
        "colab": {
          "base_uri": "https://localhost:8080/"
        },
        "id": "IH4bf5DZhfsm",
        "outputId": "2751ad99-6eac-4f42-879b-5a52e6941766"
      },
      "outputs": [
        {
          "data": {
            "text/plain": [
              "45.1"
            ]
          },
          "execution_count": 57,
          "metadata": {},
          "output_type": "execute_result"
        }
      ],
      "source": [
        "promedio=sum(lista)/len(lista)\n",
        "promedio"
      ]
    },
    {
      "cell_type": "markdown",
      "metadata": {
        "id": "Xds_qQGPjOND"
      },
      "source": [
        "# **Diccionarios**"
      ]
    },
    {
      "cell_type": "code",
      "execution_count": null,
      "metadata": {
        "colab": {
          "base_uri": "https://localhost:8080/"
        },
        "id": "PG-2ld4IjNP2",
        "outputId": "e6db80fc-08f4-49fd-cf57-97600710e43d"
      },
      "outputs": [
        {
          "data": {
            "text/plain": [
              "{}"
            ]
          },
          "execution_count": 58,
          "metadata": {},
          "output_type": "execute_result"
        }
      ],
      "source": [
        "dict()"
      ]
    },
    {
      "cell_type": "code",
      "execution_count": null,
      "metadata": {
        "colab": {
          "base_uri": "https://localhost:8080/"
        },
        "id": "ir8W3gBXjtTE",
        "outputId": "fee221d1-c0f6-4ac2-fcd3-274d09c2f204"
      },
      "outputs": [
        {
          "data": {
            "text/plain": [
              "{'Alemania': 'Berlin', 'España': 'Madrid', 'Francia': 'Paris'}"
            ]
          },
          "execution_count": 60,
          "metadata": {},
          "output_type": "execute_result"
        }
      ],
      "source": [
        "capitales={\"España\":\"Madrid\", \"Francia\":\"Paris\", \"Alemania\":\"Berlin\"}\n",
        "capitales"
      ]
    },
    {
      "cell_type": "code",
      "execution_count": null,
      "metadata": {
        "colab": {
          "base_uri": "https://localhost:8080/",
          "height": 35
        },
        "id": "CZ0eg1ulkRIP",
        "outputId": "ce81dd3c-2493-4fe3-c434-945856001cd9"
      },
      "outputs": [
        {
          "data": {
            "application/vnd.google.colaboratory.intrinsic+json": {
              "type": "string"
            },
            "text/plain": [
              "'Madrid'"
            ]
          },
          "execution_count": 61,
          "metadata": {},
          "output_type": "execute_result"
        }
      ],
      "source": [
        "capitales[\"España\"]"
      ]
    },
    {
      "cell_type": "markdown",
      "metadata": {
        "id": "JCZhqTI_k8XN"
      },
      "source": [
        "Agragar elementos a un diccionarioa"
      ]
    },
    {
      "cell_type": "code",
      "execution_count": null,
      "metadata": {
        "colab": {
          "base_uri": "https://localhost:8080/"
        },
        "id": "51fwA2JslBKA",
        "outputId": "1878d071-f2f9-4cf6-8d35-4ec37cc8d86e"
      },
      "outputs": [
        {
          "data": {
            "text/plain": [
              "{'Alemania': 'Berlin',\n",
              " 'España': 'Madrid',\n",
              " 'Francia': 'Paris',\n",
              " 'Mexico': 'CDMX'}"
            ]
          },
          "execution_count": 63,
          "metadata": {},
          "output_type": "execute_result"
        }
      ],
      "source": [
        "capitales['Mexico']='CDMX'\n",
        "capitales"
      ]
    },
    {
      "cell_type": "code",
      "execution_count": null,
      "metadata": {
        "id": "z0nQNXSelvDi"
      },
      "outputs": [],
      "source": [
        "datos_amigo={\"name\":\"Mario\", \"Pais\":\"Colombia\"}\n"
      ]
    },
    {
      "cell_type": "code",
      "execution_count": null,
      "metadata": {
        "id": "XnFOJRRQm3kQ"
      },
      "outputs": [],
      "source": []
    },
    {
      "cell_type": "code",
      "execution_count": null,
      "metadata": {
        "colab": {
          "base_uri": "https://localhost:8080/"
        },
        "id": "5LHSDv9JmgW0",
        "outputId": "887b86cd-f8b4-4c7b-81c3-e0138c610902"
      },
      "outputs": [
        {
          "data": {
            "text/plain": [
              "{'Pais': 'Colombia',\n",
              " 'frutas': ['manzana', 'pera', 'Naranje', 'uva', 'uva'],\n",
              " 'name': 'Mario'}"
            ]
          },
          "execution_count": 70,
          "metadata": {},
          "output_type": "execute_result"
        }
      ],
      "source": [
        "datos_amigo ## una lista dentro de un diccionario"
      ]
    },
    {
      "cell_type": "code",
      "execution_count": null,
      "metadata": {
        "id": "otmEHYoUmYYy"
      },
      "outputs": [],
      "source": [
        "datos_amigo['frutas']=frutas"
      ]
    },
    {
      "cell_type": "code",
      "execution_count": null,
      "metadata": {
        "id": "5jb4tL6hm44c"
      },
      "outputs": [],
      "source": [
        "datos_amigo2={\"name\":\"Junior\", \"pais\":\"juniorlandia\"}"
      ]
    },
    {
      "cell_type": "code",
      "execution_count": null,
      "metadata": {
        "id": "RvJ_5qkqnIfZ"
      },
      "outputs": [],
      "source": [
        "amigos=[datos_amigo,datos_amigo2]"
      ]
    },
    {
      "cell_type": "code",
      "execution_count": null,
      "metadata": {
        "colab": {
          "base_uri": "https://localhost:8080/"
        },
        "id": "BkIhGxZTnU5l",
        "outputId": "c8bd6506-3bb5-4bfb-f718-40650867d314"
      },
      "outputs": [
        {
          "data": {
            "text/plain": [
              "[{'Pais': 'Colombia',\n",
              "  'frutas': ['manzana', 'pera', 'Naranje', 'uva', 'uva'],\n",
              "  'name': 'Mario'},\n",
              " {'name': 'Junior', 'pais': 'juniorlandia'}]"
            ]
          },
          "execution_count": 74,
          "metadata": {},
          "output_type": "execute_result"
        }
      ],
      "source": [
        "amigos"
      ]
    }
  ],
  "metadata": {
    "colab": {
      "name": "Untitled2.ipynb",
      "provenance": []
    },
    "interpreter": {
      "hash": "8824d0e924a47edf097c09d9412ec907845fd5c9c654d210fc902eda9c8216b6"
    },
    "kernelspec": {
      "display_name": "Python 3.9.7 ('base')",
      "language": "python",
      "name": "python3"
    },
    "language_info": {
      "codemirror_mode": {
        "name": "ipython",
        "version": 3
      },
      "file_extension": ".py",
      "mimetype": "text/x-python",
      "name": "python",
      "nbconvert_exporter": "python",
      "pygments_lexer": "ipython3",
      "version": "3.9.7"
    }
  },
  "nbformat": 4,
  "nbformat_minor": 0
}
