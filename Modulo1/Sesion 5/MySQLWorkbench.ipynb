{
  "nbformat": 4,
  "nbformat_minor": 0,
  "metadata": {
    "colab": {
      "name": "MySQLWorkbench.ipynb",
      "provenance": [],
      "collapsed_sections": []
    },
    "kernelspec": {
      "name": "python3",
      "display_name": "Python 3"
    },
    "language_info": {
      "name": "python"
    }
  },
  "cells": [
    {
      "cell_type": "markdown",
      "metadata": {
        "id": "jpheBv3k9cyn"
      },
      "source": [
        "# Creación y conexión a la base de datos"
      ]
    },
    {
      "cell_type": "markdown",
      "source": [
        "El proposito de este notebook es guiar la practica que se ejecutará a travez de Workbench."
      ],
      "metadata": {
        "id": "KUmf15N9piEy"
      }
    },
    {
      "cell_type": "code",
      "metadata": {
        "id": "Noi4vTCr9ipD"
      },
      "source": [
        "# Tener descargado MySQL Server\n",
        "# https://dev.mysql.com/downloads/mysql/\n",
        "\n",
        "# Tener descargado MySQL Workbench\n",
        "# https://www.mysql.com/products/workbench/"
      ],
      "execution_count": null,
      "outputs": []
    },
    {
      "cell_type": "markdown",
      "source": [
        "Nos conectamos a la instancia local en este caso \"Local instance MySQL80\""
      ],
      "metadata": {
        "id": "hk4fLoHNhyVh"
      }
    },
    {
      "cell_type": "markdown",
      "source": [
        "![img1](https://drive.google.com/uc?export=view&id=1T-O2xCB1rBb1t__Y_k6SnTpTpbxmLaA4)\n"
      ],
      "metadata": {
        "id": "Npq7rCTPhl1t"
      }
    },
    {
      "cell_type": "markdown",
      "source": [
        "## Nuevo modelo\n",
        "\n",
        "Para crear un nuevo modelo, hagamos lo siguiente:\n",
        "1. Clic al icono de crear un nuevo esquema\n",
        "2. En la pestaña, guardar el modelo con el nombre de lessons.\n",
        "\n",
        "**Nota:** presionar Apply."
      ],
      "metadata": {
        "id": "xidJbvxDGkVS"
      }
    },
    {
      "cell_type": "markdown",
      "source": [
        "![img3](https://drive.google.com/uc?export=view&id=1H61bRZo6KRpBFFtzc7UjRlA3UbVOLEPf)"
      ],
      "metadata": {
        "id": "Nzoo5V4HBnZt"
      }
    },
    {
      "cell_type": "markdown",
      "metadata": {
        "id": "mT77AGxg-zL3"
      },
      "source": [
        "## Construyendo mi base de datos: Usuarios y comentarios"
      ]
    },
    {
      "cell_type": "markdown",
      "source": [
        "3. Ahora, es momento de crear la primer tabla. Haz clic derecho en la BD y selecciona la opcion de **Create Table**.\n",
        "4. En el campo de Table Name escirbe User\n",
        "5. Da clic a la opcion de **Apply**"
      ],
      "metadata": {
        "id": "mdQKbjcWlsZO"
      }
    },
    {
      "cell_type": "markdown",
      "source": [
        "![img4](https://drive.google.com/uc?export=view&id=13pA_eS5t9-ZQ0UD_fnE9zJWGZcDOcFCz)"
      ],
      "metadata": {
        "id": "dFefLl0UUQdQ"
      }
    },
    {
      "cell_type": "markdown",
      "source": [
        "6. La tabla \"User\" llevará los siguientes campos:\n",
        "- email como PK\n",
        "- first_name tipo texto\n",
        "- last_name tipo texto\n",
        "- address tipo texto\n",
        "- age tipo integer"
      ],
      "metadata": {
        "id": "A01_QISmITLL"
      }
    },
    {
      "cell_type": "markdown",
      "source": [
        "![img6](https://drive.google.com/uc?export=view&id=1jdaujU9G2ixy9PgfdUuXlzvSv1u4Wrau)"
      ],
      "metadata": {
        "id": "8JxmIt0DRmKZ"
      }
    },
    {
      "cell_type": "markdown",
      "source": [
        "También puedes lograr crear la tabla con un consulta SQL directa como la siguiente:\n",
        "\n",
        "```\n",
        "CREATE TABLE IF NOT EXISTS \n",
        "User(\n",
        "  email varchar(45), \n",
        "  first_name varchar(45), \n",
        "  last_name varchar(45), \n",
        "  address varchar(45), \n",
        "  age int, \n",
        "  PRIMARY KEY (email)\n",
        ")\n",
        "```\n",
        "\n"
      ],
      "metadata": {
        "id": "e_U52cRhLbWG"
      }
    },
    {
      "cell_type": "markdown",
      "source": [
        "## Insertar datos en nuestra tabla User"
      ],
      "metadata": {
        "id": "eCimCvEfNeJ0"
      }
    },
    {
      "cell_type": "markdown",
      "source": [
        "*texto en cursiva*\n",
        "\n",
        "```\n",
        "INSERT INTO user VALUES ('bob@example.com', 'Bob', 'Codd', '123 Fantasy lane, Fantasy City', 'de')\n",
        "INSERT INTO user VALUES ('tom@web.com', 'Tom', 'Fake', '456 Fantasy lane, Fantasy City', 39)\n",
        "```\n",
        "\n"
      ],
      "metadata": {
        "id": "qd4jMHiyNlNx"
      }
    },
    {
      "cell_type": "markdown",
      "source": [
        "## Seleccionamos datos de nuestra tabla User\n",
        "\n",
        "```\n",
        "# Seleccionamos todos los registros de nuestra tabla\n",
        "SELECT * FROM user\n",
        "\n",
        "# Seleccionamos únicamente un par de columnas pero todas las filas (sin filtro)\n",
        "SELECT email, first_name FROM user\n",
        "SELECT first_name, last_name FROM user\n",
        "\n",
        "# ¿Que pasaría si seleccionamos una columna que no existe?\n",
        "SELECT email, gender FROM user\n",
        "```\n",
        "\n"
      ],
      "metadata": {
        "id": "8AIibQH-NuPo"
      }
    },
    {
      "cell_type": "markdown",
      "source": [
        "### Selección de datos con WHERE\n",
        "\n",
        "```\n",
        "# Selecciona todas las columnas pero solo a las personas cuya edad sea igual a 39\n",
        "SELECT * FROM user WHERE age = 39\n",
        "```\n",
        "\n"
      ],
      "metadata": {
        "id": "BdquZtEhOcNt"
      }
    },
    {
      "cell_type": "markdown",
      "source": [
        "### Ordenando filas en la selección\n",
        "\n",
        "```\n",
        "# Seleccionamos email y edad, ordenando por edad en orden descendente\n",
        "SELECT email, age FROM user ORDER BY age DESC\n",
        "```\n",
        "\n"
      ],
      "metadata": {
        "id": "h3Sb95txO0vI"
      }
    },
    {
      "cell_type": "markdown",
      "source": [
        "### Actualizando nuestra tabla: nuevo campo\n",
        "\n",
        "```\n",
        "# Añadimos un campo gender a la tabla\n",
        "ALTER TABLE user ADD COLUMN gender text\n",
        "```"
      ],
      "metadata": {
        "id": "BFyEThVEPYgl"
      }
    },
    {
      "cell_type": "markdown",
      "source": [
        "### Actualizando nuestra tabla: cambios en los registros\n",
        "\n",
        "```\n",
        "# Establecemos gende como M para todos los usuarios\n",
        "UPDATE user SET gender='M'\n",
        "# Vamos a revisar el resultado\n",
        "SELECT email, gender FROM user\n",
        "\n",
        "# Vamos a actualizar la edad de nuestro usuario bob@example.com\n",
        "UPDATE user SET age=38 WHERE user.email='bob@example.com'\n",
        "# Validamos el resultado\n",
        "SELECT email, gender, age FROM user ORDER BY age DESC\n",
        "\n",
        "# Finalmente, podemos actualizar insertando un nuevo registro. Hagamos lo siguiente:\n",
        "INSERT INTO user VALUES('shelly@www.com', 'Shelly', 'Milar', '123, Ocean View Lane', 39, 'F')\n",
        "# Ahora veamos la lista de todos nuestros usuarios\n",
        "SELECT * FROM user\n",
        "```\n",
        "\n"
      ],
      "metadata": {
        "id": "xkbpK86WPco3"
      }
    },
    {
      "cell_type": "code",
      "metadata": {
        "id": "MZCo3cc6rW-m"
      },
      "source": [
        ""
      ],
      "execution_count": null,
      "outputs": []
    }
  ]
}